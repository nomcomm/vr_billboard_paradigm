{
 "cells": [
  {
   "cell_type": "markdown",
   "id": "b3c12183",
   "metadata": {},
   "source": [
    "## Viewing Behavior Analysis\n",
    "\n",
    "Goal here is to load in - for every participant - the list with banner-to-position assignments, and merge this with the banner-looked-at list\n"
   ]
  },
  {
   "cell_type": "code",
   "execution_count": 1,
   "id": "98ea2034",
   "metadata": {},
   "outputs": [],
   "source": [
    "import os, glob, warnings\n",
    "import numpy as np\n",
    "import pandas as pd\n",
    "warnings.filterwarnings('ignore')\n"
   ]
  },
  {
   "cell_type": "code",
   "execution_count": 2,
   "id": "7c505ce3",
   "metadata": {},
   "outputs": [
    {
     "name": "stdout",
     "output_type": "stream",
     "text": [
      "40\n"
     ]
    },
    {
     "data": {
      "text/plain": [
       "['sub001', 'sub002', 'sub003']"
      ]
     },
     "execution_count": 2,
     "metadata": {},
     "output_type": "execute_result"
    }
   ],
   "source": [
    "folders = glob.glob(\"../data/00_gaze_data/sub*\")\n",
    "folders.sort()\n",
    "subjs = []\n",
    "for f in folders:\n",
    "    subjs.append(f[-6:])\n",
    "\n",
    "print(len(subjs))\n",
    "subjs[:3]"
   ]
  },
  {
   "cell_type": "code",
   "execution_count": 3,
   "id": "bf6df3f0",
   "metadata": {},
   "outputs": [
    {
     "name": "stdout",
     "output_type": "stream",
     "text": [
      "sub001\n",
      "---\n",
      "sub002\n",
      "---\n",
      "sub003\n",
      "---\n",
      "sub004\n",
      "---\n",
      "sub005\n",
      "---\n",
      "sub006\n",
      "---\n",
      "sub007\n",
      "---\n",
      "sub008\n",
      "---\n",
      "sub009\n",
      "---\n",
      "sub010\n",
      "---\n",
      "sub011\n",
      "---\n",
      "sub012\n",
      "---\n",
      "sub013\n",
      "---\n",
      "sub014\n",
      "---\n",
      "sub015\n",
      "---\n",
      "sub016\n",
      "---\n",
      "sub017\n",
      "---\n",
      "sub018\n",
      "---\n",
      "sub019\n",
      "---\n",
      "sub020\n",
      "---\n",
      "sub021\n",
      "---\n",
      "sub022\n",
      "---\n",
      "sub023\n",
      "---\n",
      "sub024\n",
      "---\n",
      "sub025\n",
      "---\n",
      "sub026\n",
      "---\n",
      "sub027\n",
      "---\n",
      "sub028\n",
      "---\n",
      "sub029\n",
      "---\n",
      "sub030\n",
      "---\n",
      "sub031\n",
      "---\n",
      "sub032\n",
      "---\n",
      "sub033\n",
      "---\n",
      "sub034\n",
      "---\n",
      "sub035\n",
      "---\n",
      "sub036\n",
      "---\n",
      "sub037\n",
      "---\n",
      "sub038\n",
      "---\n",
      "sub039\n",
      "---\n",
      "sub040\n",
      "---\n"
     ]
    }
   ],
   "source": [
    "for i in range(len(subjs)):\n",
    "    print(subjs[i])\n",
    "\n",
    "    # assemble filepaths for the subjects\n",
    "    curr_sub_position_file = '../data/00_gaze_data/' + subjs[i] +'/' + subjs[i] +'_billboard_list_position_name_assignment.csv'\n",
    "    curr_sub_eye_file      = '../data/00_gaze_data/' + subjs[i] +'/' + subjs[i] +'_tracking_data_trial_1.txt'\n",
    "    out_file_name          = '../data/00_gaze_data/fixation_billboards/' + subjs[i] +'_fixations_billboards.csv'\n",
    "\n",
    "    #read in position-billboard assignment\n",
    "    pos_df = pd.read_csv(curr_sub_position_file)\n",
    "\n",
    "    for row in pos_df.itertuples():\n",
    "        pos_df.at[row.Index, \"billboard_image_at_position_text\"] = pos_df.at[row.Index, \"billboard_image_at_position\"].replace(\"resources/billboards/\",\"\")[:-4]\n",
    "\n",
    "    pos_df.head()\n",
    "\n",
    "    #read in fixation information\n",
    "    eye_df = pd.read_csv(curr_sub_eye_file, sep = '\\t')\n",
    "    eye_df = eye_df.drop(['Unnamed: 9'], axis=1)\n",
    "    eye_df.head()\n",
    "\n",
    "    #select fixations and count them\n",
    "    contain_values = eye_df[eye_df['flag    '].str.contains('fixated')]\n",
    "\n",
    "    for row in contain_values.itertuples():\n",
    "        contain_values.at[row.Index, \"fix_bill\"] = contain_values.at[row.Index, \"flag    \"].replace(\"gaze fixated: billboard_image_\",\"\")\n",
    "    contain_values.head()\n",
    "\n",
    "    #contain_values['fix_bill'].value_counts()\n",
    "\n",
    "    df = pd.DataFrame(contain_values['fix_bill'].value_counts())\n",
    "    df['billboard'] = df.index\n",
    "\n",
    "    df = df.reset_index(level=0)\n",
    "    df = df.drop(['index'], axis=1)\n",
    "    df = df.apply(pd.to_numeric)\n",
    "\n",
    "    df = df.sort_values(by='billboard')\n",
    "    df.reset_index(drop=True, inplace=True)\n",
    "    df.head()\n",
    "    \n",
    "    \n",
    "    zeros = np.zeros(20)\n",
    "    numlist = np.linspace(1,20,20)\n",
    "    num_df = pd.DataFrame(np.vstack((zeros, numlist)).T, columns = ['zeros', 'bbnums'])\n",
    "    num_df.head()\n",
    "\n",
    "    merged_df = num_df.merge(df, left_on='bbnums', right_on='billboard', how = 'left')\n",
    "    merged_df['billboard'] = merged_df['bbnums']\n",
    "    merged_df = merged_df.fillna(0)\n",
    "    merged_df.head()\n",
    "\n",
    "    # merge everything together\n",
    "    merged_df2 = pd.merge(merged_df, pos_df, left_on = 'billboard', right_on = 'position_index')\n",
    "    merged_df2 = merged_df2.drop(['billboard_image_at_position', 'index'], axis=1)\n",
    "    merged_df2.to_csv(out_file_name)\n",
    "    #print(merged_df.head())\n",
    "    print('---')"
   ]
  },
  {
   "cell_type": "code",
   "execution_count": null,
   "id": "fecbad07",
   "metadata": {},
   "outputs": [],
   "source": []
  }
 ],
 "metadata": {
  "kernelspec": {
   "display_name": "Python 3 (ipykernel)",
   "language": "python",
   "name": "python3"
  },
  "language_info": {
   "codemirror_mode": {
    "name": "ipython",
    "version": 3
   },
   "file_extension": ".py",
   "mimetype": "text/x-python",
   "name": "python",
   "nbconvert_exporter": "python",
   "pygments_lexer": "ipython3",
   "version": "3.10.9"
  }
 },
 "nbformat": 4,
 "nbformat_minor": 5
}
