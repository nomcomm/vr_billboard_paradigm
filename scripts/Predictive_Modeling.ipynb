{
 "cells": [
  {
   "cell_type": "code",
   "execution_count": 1,
   "id": "b59f9d21",
   "metadata": {},
   "outputs": [],
   "source": [
    "import matplotlib.pyplot as plt\n",
    "import seaborn as sns\n",
    "from sklearn.metrics import roc_curve, confusion_matrix, auc\n",
    "from sklearn import linear_model\n",
    "import pandas as pd\n",
    "import glob\n",
    "import seaborn as sns\n",
    "import matplotlib.pyplot as plt\n",
    "import numpy as np\n",
    "import warnings\n",
    "warnings.filterwarnings(\"ignore\")"
   ]
  },
  {
   "cell_type": "code",
   "execution_count": 2,
   "id": "12f2576d",
   "metadata": {},
   "outputs": [
    {
     "name": "stdout",
     "output_type": "stream",
     "text": [
      "40\n"
     ]
    },
    {
     "data": {
      "text/plain": [
       "['count trash', 'count trash', 'count trash']"
      ]
     },
     "execution_count": 2,
     "metadata": {},
     "output_type": "execute_result"
    }
   ],
   "source": [
    "folders = glob.glob(\"../data/00_gaze_data/sub*\")\n",
    "folders.sort()\n",
    "subjs = []\n",
    "for f in folders:\n",
    "    subjs.append(f[-6:])\n",
    "print(len(subjs))    \n",
    "subjs[:3]\n",
    "\n",
    "condition_index = ['count trash']*20 + ['free viewing']*20\n",
    "condition_index[:3]"
   ]
  },
  {
   "cell_type": "code",
   "execution_count": 3,
   "id": "3e3c9b15",
   "metadata": {
    "scrolled": true
   },
   "outputs": [
    {
     "name": "stdout",
     "output_type": "stream",
     "text": [
      "0.765\n"
     ]
    },
    {
     "data": {
      "text/html": [
       "<div>\n",
       "<style scoped>\n",
       "    .dataframe tbody tr th:only-of-type {\n",
       "        vertical-align: middle;\n",
       "    }\n",
       "\n",
       "    .dataframe tbody tr th {\n",
       "        vertical-align: top;\n",
       "    }\n",
       "\n",
       "    .dataframe thead th {\n",
       "        text-align: right;\n",
       "    }\n",
       "</style>\n",
       "<table border=\"1\" class=\"dataframe\">\n",
       "  <thead>\n",
       "    <tr style=\"text-align: right;\">\n",
       "      <th></th>\n",
       "      <th>position_index</th>\n",
       "      <th>billboard_image_at_position_text</th>\n",
       "      <th>fix_bill</th>\n",
       "      <th>sum_fa</th>\n",
       "      <th>condition</th>\n",
       "      <th>fix_binarized</th>\n",
       "    </tr>\n",
       "  </thead>\n",
       "  <tbody>\n",
       "    <tr>\n",
       "      <th>0</th>\n",
       "      <td>1</td>\n",
       "      <td>texting_driving</td>\n",
       "      <td>2.0</td>\n",
       "      <td>0</td>\n",
       "      <td>count trash</td>\n",
       "      <td>1.0</td>\n",
       "    </tr>\n",
       "    <tr>\n",
       "      <th>1</th>\n",
       "      <td>2</td>\n",
       "      <td>burger</td>\n",
       "      <td>1.0</td>\n",
       "      <td>0</td>\n",
       "      <td>count trash</td>\n",
       "      <td>1.0</td>\n",
       "    </tr>\n",
       "    <tr>\n",
       "      <th>2</th>\n",
       "      <td>3</td>\n",
       "      <td>drunk_driving</td>\n",
       "      <td>1.0</td>\n",
       "      <td>0</td>\n",
       "      <td>count trash</td>\n",
       "      <td>1.0</td>\n",
       "    </tr>\n",
       "    <tr>\n",
       "      <th>3</th>\n",
       "      <td>4</td>\n",
       "      <td>coffee</td>\n",
       "      <td>1.0</td>\n",
       "      <td>0</td>\n",
       "      <td>count trash</td>\n",
       "      <td>1.0</td>\n",
       "    </tr>\n",
       "    <tr>\n",
       "      <th>4</th>\n",
       "      <td>5</td>\n",
       "      <td>hotel</td>\n",
       "      <td>1.0</td>\n",
       "      <td>0</td>\n",
       "      <td>count trash</td>\n",
       "      <td>1.0</td>\n",
       "    </tr>\n",
       "  </tbody>\n",
       "</table>\n",
       "</div>"
      ],
      "text/plain": [
       "   position_index billboard_image_at_position_text  fix_bill  sum_fa  \\\n",
       "0               1                  texting_driving       2.0       0   \n",
       "1               2                           burger       1.0       0   \n",
       "2               3                    drunk_driving       1.0       0   \n",
       "3               4                           coffee       1.0       0   \n",
       "4               5                            hotel       1.0       0   \n",
       "\n",
       "     condition  fix_binarized  \n",
       "0  count trash            1.0  \n",
       "1  count trash            1.0  \n",
       "2  count trash            1.0  \n",
       "3  count trash            1.0  \n",
       "4  count trash            1.0  "
      ]
     },
     "execution_count": 3,
     "metadata": {},
     "output_type": "execute_result"
    }
   ],
   "source": [
    "list_of_dataframes = []\n",
    "\n",
    "for i in range(len(subjs)): #use the first 20 subjs 1-20 -- condition1\n",
    "    read_file_name = '../data/03_fixation_billboards_recall_recognition/'  + subjs[i] +'_fixations_billboards_recall_recognition.csv'\n",
    "    df = pd.read_csv(read_file_name, index_col = 0)\n",
    "    df['subject'] = subjs[i]\n",
    "    df[\"condition\"] = condition_index[i]\n",
    "    list_of_dataframes.append(df)\n",
    "    \n",
    "large_df = pd.concat(list_of_dataframes)\n",
    "\n",
    "#add in the binary fix feature\n",
    "large_df['fix_binarized'] = large_df['fix_bill']\n",
    "large_df.loc[large_df['fix_binarized'] > 1, 'fix_binarized'] = 1\n",
    "\n",
    "print( 1- (large_df[\"recall\"].sum()/len(large_df)))\n",
    "\n",
    "large_df['recall'] = large_df['recall'].replace(0,'norecall')\n",
    "large_df['recall'] = large_df['recall'].replace(1,'recall')\n",
    "\n",
    "target = large_df[\"recall\"]\n",
    "\n",
    "data = large_df.drop(['recall', 'recognition', 'subject'], axis=1)\n",
    "data.head()"
   ]
  },
  {
   "cell_type": "code",
   "execution_count": 4,
   "id": "e01f1ebc",
   "metadata": {
    "scrolled": true
   },
   "outputs": [
    {
     "data": {
      "text/plain": [
       "['billboard_image_at_position_text', 'condition']"
      ]
     },
     "execution_count": 4,
     "metadata": {},
     "output_type": "execute_result"
    }
   ],
   "source": [
    "from sklearn.compose import make_column_selector as selector\n",
    "categorical_columns_selector = selector(dtype_include=object)\n",
    "categorical_columns = categorical_columns_selector(data)\n",
    "categorical_columns"
   ]
  },
  {
   "cell_type": "code",
   "execution_count": 5,
   "id": "99e17335",
   "metadata": {},
   "outputs": [
    {
     "data": {
      "text/plain": [
       "array([0., 0., 0., 0., 0., 0., 0., 0., 0., 0., 0., 1., 0., 0., 0., 0., 0.,\n",
       "       0., 0., 0., 1., 0.])"
      ]
     },
     "execution_count": 5,
     "metadata": {},
     "output_type": "execute_result"
    }
   ],
   "source": [
    "from sklearn.preprocessing import OneHotEncoder\n",
    "encoder = OneHotEncoder(sparse=False)\n",
    "categorical_encoded_data = encoder.fit_transform(data[categorical_columns])\n",
    "categorical_encoded_data[4]"
   ]
  },
  {
   "cell_type": "code",
   "execution_count": 6,
   "id": "a8a03795",
   "metadata": {},
   "outputs": [
    {
     "data": {
      "text/html": [
       "<div>\n",
       "<style scoped>\n",
       "    .dataframe tbody tr th:only-of-type {\n",
       "        vertical-align: middle;\n",
       "    }\n",
       "\n",
       "    .dataframe tbody tr th {\n",
       "        vertical-align: top;\n",
       "    }\n",
       "\n",
       "    .dataframe thead th {\n",
       "        text-align: right;\n",
       "    }\n",
       "</style>\n",
       "<table border=\"1\" class=\"dataframe\">\n",
       "  <thead>\n",
       "    <tr style=\"text-align: right;\">\n",
       "      <th></th>\n",
       "      <th>0</th>\n",
       "      <th>1</th>\n",
       "      <th>2</th>\n",
       "      <th>3</th>\n",
       "      <th>4</th>\n",
       "      <th>5</th>\n",
       "      <th>6</th>\n",
       "      <th>7</th>\n",
       "      <th>8</th>\n",
       "      <th>9</th>\n",
       "      <th>...</th>\n",
       "      <th>12</th>\n",
       "      <th>13</th>\n",
       "      <th>14</th>\n",
       "      <th>15</th>\n",
       "      <th>16</th>\n",
       "      <th>17</th>\n",
       "      <th>18</th>\n",
       "      <th>19</th>\n",
       "      <th>20</th>\n",
       "      <th>21</th>\n",
       "    </tr>\n",
       "  </thead>\n",
       "  <tbody>\n",
       "    <tr>\n",
       "      <th>0</th>\n",
       "      <td>0.0</td>\n",
       "      <td>0.0</td>\n",
       "      <td>0.0</td>\n",
       "      <td>0.0</td>\n",
       "      <td>0.0</td>\n",
       "      <td>0.0</td>\n",
       "      <td>0.0</td>\n",
       "      <td>0.0</td>\n",
       "      <td>0.0</td>\n",
       "      <td>0.0</td>\n",
       "      <td>...</td>\n",
       "      <td>0.0</td>\n",
       "      <td>0.0</td>\n",
       "      <td>0.0</td>\n",
       "      <td>0.0</td>\n",
       "      <td>0.0</td>\n",
       "      <td>0.0</td>\n",
       "      <td>1.0</td>\n",
       "      <td>0.0</td>\n",
       "      <td>1.0</td>\n",
       "      <td>0.0</td>\n",
       "    </tr>\n",
       "    <tr>\n",
       "      <th>1</th>\n",
       "      <td>0.0</td>\n",
       "      <td>0.0</td>\n",
       "      <td>0.0</td>\n",
       "      <td>1.0</td>\n",
       "      <td>0.0</td>\n",
       "      <td>0.0</td>\n",
       "      <td>0.0</td>\n",
       "      <td>0.0</td>\n",
       "      <td>0.0</td>\n",
       "      <td>0.0</td>\n",
       "      <td>...</td>\n",
       "      <td>0.0</td>\n",
       "      <td>0.0</td>\n",
       "      <td>0.0</td>\n",
       "      <td>0.0</td>\n",
       "      <td>0.0</td>\n",
       "      <td>0.0</td>\n",
       "      <td>0.0</td>\n",
       "      <td>0.0</td>\n",
       "      <td>1.0</td>\n",
       "      <td>0.0</td>\n",
       "    </tr>\n",
       "    <tr>\n",
       "      <th>2</th>\n",
       "      <td>0.0</td>\n",
       "      <td>0.0</td>\n",
       "      <td>0.0</td>\n",
       "      <td>0.0</td>\n",
       "      <td>0.0</td>\n",
       "      <td>0.0</td>\n",
       "      <td>0.0</td>\n",
       "      <td>0.0</td>\n",
       "      <td>1.0</td>\n",
       "      <td>0.0</td>\n",
       "      <td>...</td>\n",
       "      <td>0.0</td>\n",
       "      <td>0.0</td>\n",
       "      <td>0.0</td>\n",
       "      <td>0.0</td>\n",
       "      <td>0.0</td>\n",
       "      <td>0.0</td>\n",
       "      <td>0.0</td>\n",
       "      <td>0.0</td>\n",
       "      <td>1.0</td>\n",
       "      <td>0.0</td>\n",
       "    </tr>\n",
       "    <tr>\n",
       "      <th>3</th>\n",
       "      <td>0.0</td>\n",
       "      <td>0.0</td>\n",
       "      <td>0.0</td>\n",
       "      <td>0.0</td>\n",
       "      <td>1.0</td>\n",
       "      <td>0.0</td>\n",
       "      <td>0.0</td>\n",
       "      <td>0.0</td>\n",
       "      <td>0.0</td>\n",
       "      <td>0.0</td>\n",
       "      <td>...</td>\n",
       "      <td>0.0</td>\n",
       "      <td>0.0</td>\n",
       "      <td>0.0</td>\n",
       "      <td>0.0</td>\n",
       "      <td>0.0</td>\n",
       "      <td>0.0</td>\n",
       "      <td>0.0</td>\n",
       "      <td>0.0</td>\n",
       "      <td>1.0</td>\n",
       "      <td>0.0</td>\n",
       "    </tr>\n",
       "    <tr>\n",
       "      <th>4</th>\n",
       "      <td>0.0</td>\n",
       "      <td>0.0</td>\n",
       "      <td>0.0</td>\n",
       "      <td>0.0</td>\n",
       "      <td>0.0</td>\n",
       "      <td>0.0</td>\n",
       "      <td>0.0</td>\n",
       "      <td>0.0</td>\n",
       "      <td>0.0</td>\n",
       "      <td>0.0</td>\n",
       "      <td>...</td>\n",
       "      <td>0.0</td>\n",
       "      <td>0.0</td>\n",
       "      <td>0.0</td>\n",
       "      <td>0.0</td>\n",
       "      <td>0.0</td>\n",
       "      <td>0.0</td>\n",
       "      <td>0.0</td>\n",
       "      <td>0.0</td>\n",
       "      <td>1.0</td>\n",
       "      <td>0.0</td>\n",
       "    </tr>\n",
       "  </tbody>\n",
       "</table>\n",
       "<p>5 rows × 22 columns</p>\n",
       "</div>"
      ],
      "text/plain": [
       "    0    1    2    3    4    5    6    7    8    9   ...   12   13   14   15  \\\n",
       "0  0.0  0.0  0.0  0.0  0.0  0.0  0.0  0.0  0.0  0.0  ...  0.0  0.0  0.0  0.0   \n",
       "1  0.0  0.0  0.0  1.0  0.0  0.0  0.0  0.0  0.0  0.0  ...  0.0  0.0  0.0  0.0   \n",
       "2  0.0  0.0  0.0  0.0  0.0  0.0  0.0  0.0  1.0  0.0  ...  0.0  0.0  0.0  0.0   \n",
       "3  0.0  0.0  0.0  0.0  1.0  0.0  0.0  0.0  0.0  0.0  ...  0.0  0.0  0.0  0.0   \n",
       "4  0.0  0.0  0.0  0.0  0.0  0.0  0.0  0.0  0.0  0.0  ...  0.0  0.0  0.0  0.0   \n",
       "\n",
       "    16   17   18   19   20   21  \n",
       "0  0.0  0.0  1.0  0.0  1.0  0.0  \n",
       "1  0.0  0.0  0.0  0.0  1.0  0.0  \n",
       "2  0.0  0.0  0.0  0.0  1.0  0.0  \n",
       "3  0.0  0.0  0.0  0.0  1.0  0.0  \n",
       "4  0.0  0.0  0.0  0.0  1.0  0.0  \n",
       "\n",
       "[5 rows x 22 columns]"
      ]
     },
     "execution_count": 6,
     "metadata": {},
     "output_type": "execute_result"
    }
   ],
   "source": [
    "data_cat = pd.DataFrame(categorical_encoded_data)\n",
    "data_cat.head()"
   ]
  },
  {
   "cell_type": "code",
   "execution_count": 7,
   "id": "421a0f58",
   "metadata": {},
   "outputs": [
    {
     "data": {
      "text/html": [
       "<div>\n",
       "<style scoped>\n",
       "    .dataframe tbody tr th:only-of-type {\n",
       "        vertical-align: middle;\n",
       "    }\n",
       "\n",
       "    .dataframe tbody tr th {\n",
       "        vertical-align: top;\n",
       "    }\n",
       "\n",
       "    .dataframe thead th {\n",
       "        text-align: right;\n",
       "    }\n",
       "</style>\n",
       "<table border=\"1\" class=\"dataframe\">\n",
       "  <thead>\n",
       "    <tr style=\"text-align: right;\">\n",
       "      <th></th>\n",
       "      <th>position_index</th>\n",
       "      <th>fix_bill</th>\n",
       "    </tr>\n",
       "  </thead>\n",
       "  <tbody>\n",
       "    <tr>\n",
       "      <th>0</th>\n",
       "      <td>1</td>\n",
       "      <td>2.0</td>\n",
       "    </tr>\n",
       "    <tr>\n",
       "      <th>1</th>\n",
       "      <td>2</td>\n",
       "      <td>1.0</td>\n",
       "    </tr>\n",
       "    <tr>\n",
       "      <th>2</th>\n",
       "      <td>3</td>\n",
       "      <td>1.0</td>\n",
       "    </tr>\n",
       "    <tr>\n",
       "      <th>3</th>\n",
       "      <td>4</td>\n",
       "      <td>1.0</td>\n",
       "    </tr>\n",
       "    <tr>\n",
       "      <th>4</th>\n",
       "      <td>5</td>\n",
       "      <td>1.0</td>\n",
       "    </tr>\n",
       "  </tbody>\n",
       "</table>\n",
       "</div>"
      ],
      "text/plain": [
       "   position_index  fix_bill\n",
       "0               1       2.0\n",
       "1               2       1.0\n",
       "2               3       1.0\n",
       "3               4       1.0\n",
       "4               5       1.0"
      ]
     },
     "execution_count": 7,
     "metadata": {},
     "output_type": "execute_result"
    }
   ],
   "source": [
    "data = data.drop(['billboard_image_at_position_text', 'condition','fix_binarized', 'sum_fa'], axis=1)\n",
    "data.head()"
   ]
  },
  {
   "cell_type": "code",
   "execution_count": 8,
   "id": "a6976104",
   "metadata": {},
   "outputs": [
    {
     "data": {
      "text/plain": [
       "array([11.,  3.,  0.,  0.,  0.,  0.,  0.,  0.,  0.,  0.,  0.,  0.,  0.,\n",
       "        0.,  0.,  0.,  0.,  0.,  1.,  0.,  0.,  0.,  1.,  0.])"
      ]
     },
     "execution_count": 8,
     "metadata": {},
     "output_type": "execute_result"
    }
   ],
   "source": [
    "data_joined = np.hstack((data.values, data_cat.values))\n",
    "data2 = data_joined\n",
    "#plt.imshow(data[:50,:], vmin = 0, vmax = 1)\n",
    "data2[10]"
   ]
  },
  {
   "cell_type": "code",
   "execution_count": 9,
   "id": "8d60f390",
   "metadata": {
    "scrolled": true
   },
   "outputs": [
    {
     "data": {
      "text/plain": [
       "0    norecall\n",
       "1    norecall\n",
       "2    norecall\n",
       "3    norecall\n",
       "4    norecall\n",
       "Name: recall, dtype: object"
      ]
     },
     "execution_count": 9,
     "metadata": {},
     "output_type": "execute_result"
    }
   ],
   "source": [
    "target.head()"
   ]
  },
  {
   "cell_type": "code",
   "execution_count": 10,
   "id": "d7a6682e",
   "metadata": {},
   "outputs": [
    {
     "name": "stdout",
     "output_type": "stream",
     "text": [
      "The mean cross-validation accuracy (roc_auc) is: 0.500 ± 0.000\n",
      "\n",
      "The mean cross-validation accuracy (f1_weighted) is: 0.487 ± 0.027\n",
      "\n",
      "              precision    recall  f1-score   support\n",
      "\n",
      "    norecall       0.76      0.48      0.59       612\n",
      "      recall       0.23      0.52      0.32       188\n",
      "\n",
      "    accuracy                           0.49       800\n",
      "   macro avg       0.50      0.50      0.46       800\n",
      "weighted avg       0.64      0.49      0.53       800\n",
      "\n"
     ]
    }
   ],
   "source": [
    "from sklearn.dummy import DummyClassifier\n",
    "from sklearn.model_selection import cross_validate\n",
    "from sklearn.metrics import classification_report\n",
    "\n",
    "# set up a dummy classifier\n",
    "clf_dummy = DummyClassifier(random_state=42, strategy='uniform') \n",
    "clf_dummy.fit(data2, target)\n",
    "y_pred = clf_dummy.predict(data2)\n",
    "\n",
    "\n",
    "cv_results = cross_validate(clf_dummy, data2, target, cv=5, scoring=\"roc_auc\")\n",
    "scores = cv_results[\"test_score\"]\n",
    "\n",
    "print(\"The mean cross-validation accuracy (roc_auc) is: \"\n",
    "      f\"{scores.mean():.3f} ± {scores.std():.3f}\")\n",
    "print(\"\")\n",
    "\n",
    "\n",
    "cv_results2 = cross_validate(clf_dummy, data2, target, cv=5, scoring=\"f1_weighted\")\n",
    "scores2 = cv_results2[\"test_score\"]\n",
    "\n",
    "print(\"The mean cross-validation accuracy (f1_weighted) is: \"\n",
    "      f\"{scores2.mean():.3f} ± {scores2.std():.3f}\")\n",
    "print(\"\")\n",
    "\n",
    "\n",
    "print(classification_report(target, y_pred, target_names=clf_dummy.classes_))"
   ]
  },
  {
   "cell_type": "code",
   "execution_count": 11,
   "id": "5417f20a",
   "metadata": {},
   "outputs": [
    {
     "name": "stdout",
     "output_type": "stream",
     "text": [
      "The mean cross-validation accuracy (roc_auc) is: 0.452 ± 0.012\n",
      "\n",
      "The mean cross-validation accuracy (f1_weighted) is: 0.606 ± 0.007\n",
      "\n",
      "              precision    recall  f1-score   support\n",
      "\n",
      "    norecall       0.77      0.76      0.77       612\n",
      "      recall       0.25      0.25      0.25       188\n",
      "\n",
      "    accuracy                           0.64       800\n",
      "   macro avg       0.51      0.51      0.51       800\n",
      "weighted avg       0.65      0.64      0.64       800\n",
      "\n"
     ]
    }
   ],
   "source": [
    "\n",
    "# set up Dummy CLF with stratified sampling\n",
    "clf_dummy2 = DummyClassifier(random_state=42, strategy='stratified') \n",
    "clf_dummy2.fit(data2, target)\n",
    "y_pred2 = clf_dummy2.predict(data2)\n",
    "\n",
    "\n",
    "cv_results3 = cross_validate(clf_dummy2, data2, target, cv=5, scoring=\"roc_auc\")\n",
    "scores3 = cv_results3[\"test_score\"]\n",
    "\n",
    "print(\"The mean cross-validation accuracy (roc_auc) is: \"\n",
    "      f\"{scores3.mean():.3f} ± {scores3.std():.3f}\")\n",
    "print(\"\")\n",
    "\n",
    "\n",
    "cv_results4 = cross_validate(clf_dummy2, data2, target, cv=5, scoring=\"f1_weighted\")\n",
    "scores4 = cv_results4[\"test_score\"]\n",
    "\n",
    "print(\"The mean cross-validation accuracy (f1_weighted) is: \"\n",
    "      f\"{scores4.mean():.3f} ± {scores4.std():.3f}\")\n",
    "print(\"\")\n",
    "\n",
    "\n",
    "print(classification_report(target, y_pred2, target_names=clf_dummy.classes_))"
   ]
  },
  {
   "cell_type": "code",
   "execution_count": 12,
   "id": "9cb5bc5e",
   "metadata": {},
   "outputs": [
    {
     "name": "stdout",
     "output_type": "stream",
     "text": [
      "The mean cross-validation accuracy (roc_auc) is: 0.728 ± 0.044\n",
      "\n",
      "The mean cross-validation accuracy (f1_weighted) is: 0.580 ± 0.098\n",
      "\n",
      "              precision    recall  f1-score   support\n",
      "\n",
      "    norecall       0.89      0.58      0.71       612\n",
      "      recall       0.36      0.77      0.49       188\n",
      "\n",
      "    accuracy                           0.63       800\n",
      "   macro avg       0.63      0.68      0.60       800\n",
      "weighted avg       0.77      0.63      0.66       800\n",
      "\n"
     ]
    }
   ],
   "source": [
    "from sklearn.svm import SVC\n",
    "clf = SVC(kernel='linear', \n",
    "          class_weight='balanced', # penalize\n",
    "          probability=True)\n",
    "\n",
    "clf.fit(data2, target)\n",
    "y_pred = clf.predict(data2)\n",
    "\n",
    "cv_results = cross_validate(clf, data2, target, cv=5, scoring=\"roc_auc\")\n",
    "scores = cv_results[\"test_score\"]\n",
    "\n",
    "#print(scores)\n",
    "print(\"The mean cross-validation accuracy (roc_auc) is: \"\n",
    "      f\"{scores.mean():.3f} ± {scores.std():.3f}\")\n",
    "print(\"\")\n",
    "\n",
    "cv_results2 = cross_validate(clf, data2, target, cv=5, scoring=\"f1_weighted\")\n",
    "scores2 = cv_results2[\"test_score\"]\n",
    "#print(scores2)\n",
    "\n",
    "print(\"The mean cross-validation accuracy (f1_weighted) is: \"\n",
    "      f\"{scores2.mean():.3f} ± {scores2.std():.3f}\")\n",
    "print(\"\")\n",
    "\n",
    "\n",
    "print(classification_report(target, y_pred, target_names=clf.classes_))"
   ]
  },
  {
   "cell_type": "code",
   "execution_count": 13,
   "id": "7313f5ec",
   "metadata": {},
   "outputs": [
    {
     "data": {
      "text/plain": [
       "{'C': 10}"
      ]
     },
     "execution_count": 13,
     "metadata": {},
     "output_type": "execute_result"
    }
   ],
   "source": [
    "#optimization: \n",
    "from sklearn.model_selection import GridSearchCV\n",
    "param_grid = {\n",
    "    'C': [0.1, 1, 10, 100, 1000]\n",
    "}\n",
    "grid_search = GridSearchCV(estimator=clf, param_grid=param_grid, cv=5, scoring='f1_weighted')\n",
    "grid_search.fit(data2, target)\n",
    "best_params = grid_search.best_params_\n",
    "best_params"
   ]
  },
  {
   "cell_type": "code",
   "execution_count": null,
   "id": "d1bd9d9a",
   "metadata": {},
   "outputs": [],
   "source": [
    "#optimization2\n",
    "grid_search2 = GridSearchCV(estimator=clf, param_grid=param_grid, cv=5, scoring='roc_auc')\n",
    "grid_search2.fit(data2, target)\n",
    "best_params2 = grid_search2.best_params_\n",
    "best_params2"
   ]
  },
  {
   "cell_type": "code",
   "execution_count": null,
   "id": "e89b96ad",
   "metadata": {},
   "outputs": [],
   "source": [
    "#using paramter from optimization above\n",
    "clf_optimized = SVC(C=10, kernel='linear', \n",
    "          class_weight='balanced', # penalize\n",
    "          probability=True)\n",
    "cv_results = cross_validate(clf_optimized, data2, target, cv=5, scoring=\"roc_auc\")\n",
    "scores = cv_results[\"test_score\"]\n",
    "#print(scores)\n",
    "print(\"The mean cross-validation accuracy is: \"\n",
    "      f\"{scores.mean():.3f} ± {scores.std():.3f}\")\n",
    "cv_results2 = cross_validate(clf_optimized, data2, target, cv=5, scoring=\"f1_weighted\")\n",
    "scores2 = cv_results2[\"test_score\"]\n",
    "#print(scores2)\n",
    "print(\"The mean cross-validation accuracy is: \"\n",
    "      f\"{scores2.mean():.3f} ± {scores2.std():.3f}\")\n",
    "clf_optimized.fit(data2, target)\n",
    "y_pred = clf_optimized.predict(data2)\n",
    "print(classification_report(target, y_pred, target_names=clf_optimized.classes_))"
   ]
  },
  {
   "cell_type": "code",
   "execution_count": null,
   "id": "831dc631",
   "metadata": {},
   "outputs": [],
   "source": [
    "#using parameter from optimization above\n",
    "clf_optimized2 = SVC(C=0.1, kernel='linear', \n",
    "          class_weight='balanced', # penalize\n",
    "          probability=True)\n",
    "cv_results = cross_validate(clf_optimized2, data2, target, cv=5, scoring=\"roc_auc\")\n",
    "scores = cv_results[\"test_score\"]\n",
    "#print(scores)\n",
    "print(\"The mean cross-validation accuracy is: \"\n",
    "      f\"{scores.mean():.3f} ± {scores.std():.3f}\")\n",
    "cv_results2 = cross_validate(clf_optimized2, data2, target, cv=5, scoring=\"f1_weighted\")\n",
    "scores2 = cv_results2[\"test_score\"]\n",
    "#print(scores2)\n",
    "print(\"The mean cross-validation accuracy is: \"\n",
    "      f\"{scores2.mean():.3f} ± {scores2.std():.3f}\")\n",
    "clf_optimized2.fit(data2, target)\n",
    "y_pred = clf_optimized2.predict(data2)\n",
    "print(classification_report(target, y_pred, target_names=clf_optimized2.classes_))"
   ]
  },
  {
   "cell_type": "markdown",
   "id": "dbdf4093-1f34-4f20-8b8c-83d8ce6110d1",
   "metadata": {},
   "source": [
    "### only dummy vs svc"
   ]
  },
  {
   "cell_type": "code",
   "execution_count": null,
   "id": "a2550d6c-dfcd-4e70-9248-5de99909efe0",
   "metadata": {},
   "outputs": [],
   "source": [
    "### DUMMY\n",
    "clf_dummy = DummyClassifier(random_state=42, \n",
    "                            strategy='uniform')  #stratified, uniform, prior\n",
    "clf_dummy.fit(data2, target)\n",
    "y_pred = clf_dummy.predict(data2)\n",
    "\n",
    "cv_results_dummy = cross_validate(clf_dummy, data2, target, cv=5, scoring=\"f1_weighted\")\n",
    "scores_dummy     = cv_results_dummy[\"test_score\"]\n",
    "\n",
    "print(\"The mean cross-validation accuracy for DUMMY (f1_weighted) is: \" \n",
    "      f\"{scores_dummy.mean():.3f} ± {scores_dummy.std():.3f}\")\n",
    "print(\"\")\n",
    "\n",
    "#print(classification_report(target, y_pred, target_names=clf_dummy.classes_))\n",
    "\n",
    "\n",
    "\n",
    "### REAL\n",
    "#using parameter from optimization above\n",
    "clf_optimized = SVC(C=0.1, kernel='linear', \n",
    "                      class_weight='balanced', # penalize\n",
    "                      probability=True)\n",
    "clf_optimized.fit(data2, target)\n",
    "y_pred = clf_optimized.predict(data2)\n",
    "\n",
    "cv_results_svc = cross_validate(clf_optimized, data2, target, cv=5, scoring=\"f1_weighted\")\n",
    "scores_svc = cv_results_svc[\"test_score\"]\n",
    "\n",
    "print(\"The mean cross-validation accuracy for REAL SVC (f1_weighted) is: \"\n",
    "      f\"{scores_svc.mean():.3f} ± {scores_svc.std():.3f}\")\n",
    "\n",
    "#print(classification_report(target, y_pred, target_names=clf_optimized2.classes_))"
   ]
  },
  {
   "cell_type": "code",
   "execution_count": null,
   "id": "af751f97-f047-4e70-ac72-a14560d22c4d",
   "metadata": {},
   "outputs": [],
   "source": []
  }
 ],
 "metadata": {
  "kernelspec": {
   "display_name": "Python 3 (ipykernel)",
   "language": "python",
   "name": "python3"
  },
  "language_info": {
   "codemirror_mode": {
    "name": "ipython",
    "version": 3
   },
   "file_extension": ".py",
   "mimetype": "text/x-python",
   "name": "python",
   "nbconvert_exporter": "python",
   "pygments_lexer": "ipython3",
   "version": "3.10.9"
  }
 },
 "nbformat": 4,
 "nbformat_minor": 5
}
